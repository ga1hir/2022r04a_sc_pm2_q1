{
 "cells": [
  {
   "cell_type": "code",
   "execution_count": null,
   "id": "9a5840ac",
   "metadata": {},
   "outputs": [],
   "source": [
    "# このnotebookは，情報処理安全確保支援士 令和4年度秋期\n",
    "# 午後Ⅱ問1の図8のオフライン攻撃手法をPythonで再現したものです。"
   ]
  },
  {
   "cell_type": "code",
   "execution_count": null,
   "id": "da98897e",
   "metadata": {},
   "outputs": [],
   "source": [
    "!pip install bcrypt"
   ]
  },
  {
   "cell_type": "code",
   "execution_count": null,
   "id": "d97a6eff",
   "metadata": {},
   "outputs": [],
   "source": [
    "import bcrypt\n",
    "\n",
    "# 文字列Z\n",
    "mojiretsuZ = b'$2b$05$U/fzKvGOd//4E68fqvHJfOtrLcfj8LL5i7OziYaG8J5IS.vDpLJFy'\n",
    "\n",
    "# 文字列Zから，ハッシュ関数のバージョン+ストレッチング回数(7字)と\n",
    "# ソルト（22字）の合計29字を抽出\n",
    "hashver_stretch_salt = mojiretsuZ[:29] \n",
    "\n",
    "# STEP1\n",
    "for n in range(100000):\n",
    "    # STEP2\n",
    "    passwd = b'Admin%05d'%(n) # 下線⑥\n",
    "    Hmojiretsu = bcrypt.hashpw( passwd , hashver_stretch_salt )\n",
    "    # STEP3\n",
    "    if( Hmojiretsu == mojiretsuZ ):\n",
    "        print( passwd , Hmojiretsu )\n",
    "        break\n",
    "        # STEP4"
   ]
  }
 ],
 "metadata": {
  "kernelspec": {
   "display_name": "Python 3 (ipykernel)",
   "language": "python",
   "name": "python3"
  },
  "language_info": {
   "codemirror_mode": {
    "name": "ipython",
    "version": 3
   },
   "file_extension": ".py",
   "mimetype": "text/x-python",
   "name": "python",
   "nbconvert_exporter": "python",
   "pygments_lexer": "ipython3",
   "version": "3.9.13"
  }
 },
 "nbformat": 4,
 "nbformat_minor": 5
}
